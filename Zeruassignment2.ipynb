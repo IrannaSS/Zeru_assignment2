{
 "cells": [
  {
   "cell_type": "code",
   "execution_count": 21,
   "id": "502d18da",
   "metadata": {},
   "outputs": [],
   "source": [
    "import json\n",
    "import pandas as pd\n",
    "import numpy as np\n",
    "import joblib\n",
    "from sklearn.preprocessing import MinMaxScaler"
   ]
  },
  {
   "cell_type": "code",
   "execution_count": 22,
   "id": "35174bba",
   "metadata": {},
   "outputs": [],
   "source": [
    "# Loading ML model that trained in assignment1\n",
    "model = joblib.load(\"trained_wallet_model.pkl\")"
   ]
  },
  {
   "cell_type": "code",
   "execution_count": 23,
   "id": "c21654f8",
   "metadata": {},
   "outputs": [],
   "source": [
    "# Load new wallets data\n",
    "with open(\"compound_transactions_filtered.json\", \"r\") as f:\n",
    "    new_data = json.load(f)\n",
    "\n",
    "df = pd.DataFrame(new_data)"
   ]
  },
  {
   "cell_type": "code",
   "execution_count": 24,
   "id": "8f2d67dd",
   "metadata": {},
   "outputs": [
    {
     "data": {
      "text/html": [
       "<div>\n",
       "<style scoped>\n",
       "    .dataframe tbody tr th:only-of-type {\n",
       "        vertical-align: middle;\n",
       "    }\n",
       "\n",
       "    .dataframe tbody tr th {\n",
       "        vertical-align: top;\n",
       "    }\n",
       "\n",
       "    .dataframe thead th {\n",
       "        text-align: right;\n",
       "    }\n",
       "</style>\n",
       "<table border=\"1\" class=\"dataframe\">\n",
       "  <thead>\n",
       "    <tr style=\"text-align: right;\">\n",
       "      <th></th>\n",
       "      <th>userWallet</th>\n",
       "      <th>network</th>\n",
       "      <th>protocol</th>\n",
       "      <th>txHash</th>\n",
       "      <th>logId</th>\n",
       "      <th>timestamp</th>\n",
       "      <th>blockNumber</th>\n",
       "      <th>action</th>\n",
       "      <th>actionData</th>\n",
       "    </tr>\n",
       "  </thead>\n",
       "  <tbody>\n",
       "    <tr>\n",
       "      <th>0</th>\n",
       "      <td>0x0039f22efb07a647557c7c5d17854cfd6d489ef3</td>\n",
       "      <td>ethereum</td>\n",
       "      <td>compound_v2</td>\n",
       "      <td>0x278bf9dbf8b23e259a3dfa3e2d2f8908555023b38462...</td>\n",
       "      <td>0x278bf9dbf8b23e259a3dfa3e2d2f8908555023b38462...</td>\n",
       "      <td>1638889167</td>\n",
       "      <td>13759193</td>\n",
       "      <td>redeemunderlying</td>\n",
       "      <td>{'type': 'Redeemunderlying', 'amount': '0', 'a...</td>\n",
       "    </tr>\n",
       "    <tr>\n",
       "      <th>1</th>\n",
       "      <td>0x0039f22efb07a647557c7c5d17854cfd6d489ef3</td>\n",
       "      <td>ethereum</td>\n",
       "      <td>compound_v2</td>\n",
       "      <td>0x2a23706388058e55dce35bad628d511280c47f795e31...</td>\n",
       "      <td>0x2a23706388058e55dce35bad628d511280c47f795e31...</td>\n",
       "      <td>1638303263</td>\n",
       "      <td>13716853</td>\n",
       "      <td>deposit</td>\n",
       "      <td>{'type': 'Deposit', 'amount': '0', 'assetSymbo...</td>\n",
       "    </tr>\n",
       "    <tr>\n",
       "      <th>2</th>\n",
       "      <td>0x0039f22efb07a647557c7c5d17854cfd6d489ef3</td>\n",
       "      <td>ethereum</td>\n",
       "      <td>compound_v2</td>\n",
       "      <td>0xb58878d9c2733ce7c0791f7969efec1e9ff3a79d69c9...</td>\n",
       "      <td>0xb58878d9c2733ce7c0791f7969efec1e9ff3a79d69c9...</td>\n",
       "      <td>1624693565</td>\n",
       "      <td>12708396</td>\n",
       "      <td>deposit</td>\n",
       "      <td>{'type': 'Deposit', 'amount': '0', 'assetSymbo...</td>\n",
       "    </tr>\n",
       "    <tr>\n",
       "      <th>3</th>\n",
       "      <td>0x0039f22efb07a647557c7c5d17854cfd6d489ef3</td>\n",
       "      <td>ethereum</td>\n",
       "      <td>compound_v2</td>\n",
       "      <td>0x72f35f938c73944ce06628159b3abad785f976e3d066...</td>\n",
       "      <td>0x72f35f938c73944ce06628159b3abad785f976e3d066...</td>\n",
       "      <td>1616099263</td>\n",
       "      <td>12064851</td>\n",
       "      <td>redeemunderlying</td>\n",
       "      <td>{'type': 'Redeemunderlying', 'amount': '0', 'a...</td>\n",
       "    </tr>\n",
       "    <tr>\n",
       "      <th>4</th>\n",
       "      <td>0x0039f22efb07a647557c7c5d17854cfd6d489ef3</td>\n",
       "      <td>ethereum</td>\n",
       "      <td>compound_v2</td>\n",
       "      <td>0x8f4c35854a7fd6fcda351970b0c1a977b9c1bd390d42...</td>\n",
       "      <td>0x8f4c35854a7fd6fcda351970b0c1a977b9c1bd390d42...</td>\n",
       "      <td>1615696754</td>\n",
       "      <td>12034580</td>\n",
       "      <td>redeemunderlying</td>\n",
       "      <td>{'type': 'Redeemunderlying', 'amount': '0', 'a...</td>\n",
       "    </tr>\n",
       "  </tbody>\n",
       "</table>\n",
       "</div>"
      ],
      "text/plain": [
       "                                   userWallet   network     protocol  \\\n",
       "0  0x0039f22efb07a647557c7c5d17854cfd6d489ef3  ethereum  compound_v2   \n",
       "1  0x0039f22efb07a647557c7c5d17854cfd6d489ef3  ethereum  compound_v2   \n",
       "2  0x0039f22efb07a647557c7c5d17854cfd6d489ef3  ethereum  compound_v2   \n",
       "3  0x0039f22efb07a647557c7c5d17854cfd6d489ef3  ethereum  compound_v2   \n",
       "4  0x0039f22efb07a647557c7c5d17854cfd6d489ef3  ethereum  compound_v2   \n",
       "\n",
       "                                              txHash  \\\n",
       "0  0x278bf9dbf8b23e259a3dfa3e2d2f8908555023b38462...   \n",
       "1  0x2a23706388058e55dce35bad628d511280c47f795e31...   \n",
       "2  0xb58878d9c2733ce7c0791f7969efec1e9ff3a79d69c9...   \n",
       "3  0x72f35f938c73944ce06628159b3abad785f976e3d066...   \n",
       "4  0x8f4c35854a7fd6fcda351970b0c1a977b9c1bd390d42...   \n",
       "\n",
       "                                               logId   timestamp  blockNumber  \\\n",
       "0  0x278bf9dbf8b23e259a3dfa3e2d2f8908555023b38462...  1638889167     13759193   \n",
       "1  0x2a23706388058e55dce35bad628d511280c47f795e31...  1638303263     13716853   \n",
       "2  0xb58878d9c2733ce7c0791f7969efec1e9ff3a79d69c9...  1624693565     12708396   \n",
       "3  0x72f35f938c73944ce06628159b3abad785f976e3d066...  1616099263     12064851   \n",
       "4  0x8f4c35854a7fd6fcda351970b0c1a977b9c1bd390d42...  1615696754     12034580   \n",
       "\n",
       "             action                                         actionData  \n",
       "0  redeemunderlying  {'type': 'Redeemunderlying', 'amount': '0', 'a...  \n",
       "1           deposit  {'type': 'Deposit', 'amount': '0', 'assetSymbo...  \n",
       "2           deposit  {'type': 'Deposit', 'amount': '0', 'assetSymbo...  \n",
       "3  redeemunderlying  {'type': 'Redeemunderlying', 'amount': '0', 'a...  \n",
       "4  redeemunderlying  {'type': 'Redeemunderlying', 'amount': '0', 'a...  "
      ]
     },
     "execution_count": 24,
     "metadata": {},
     "output_type": "execute_result"
    }
   ],
   "source": [
    "df.head()"
   ]
  },
  {
   "cell_type": "code",
   "execution_count": 25,
   "id": "af52b207",
   "metadata": {},
   "outputs": [
    {
     "data": {
      "text/plain": [
       "userWallet     0\n",
       "network        0\n",
       "protocol       0\n",
       "txHash         0\n",
       "logId          0\n",
       "timestamp      0\n",
       "blockNumber    0\n",
       "action         0\n",
       "actionData     0\n",
       "dtype: int64"
      ]
     },
     "execution_count": 25,
     "metadata": {},
     "output_type": "execute_result"
    }
   ],
   "source": [
    "# Null values treatement\n",
    "df.isnull().sum()"
   ]
  },
  {
   "cell_type": "code",
   "execution_count": 26,
   "id": "be65e93a",
   "metadata": {},
   "outputs": [
    {
     "name": "stderr",
     "output_type": "stream",
     "text": [
      "C:\\Users\\91886\\AppData\\Local\\Temp\\ipykernel_14664\\3744804572.py:15: DeprecationWarning: DataFrameGroupBy.apply operated on the grouping columns. This behavior is deprecated, and in a future version of pandas the grouping columns will be excluded from the operation. Either pass `include_groups=False` to exclude the groupings or explicitly select the grouping columns after groupby to silence this warning.\n",
      "  features[\"deposit_count\"] = grouped.apply(lambda x: (x[\"action\"] == \"deposit\").sum())\n",
      "C:\\Users\\91886\\AppData\\Local\\Temp\\ipykernel_14664\\3744804572.py:16: DeprecationWarning: DataFrameGroupBy.apply operated on the grouping columns. This behavior is deprecated, and in a future version of pandas the grouping columns will be excluded from the operation. Either pass `include_groups=False` to exclude the groupings or explicitly select the grouping columns after groupby to silence this warning.\n",
      "  features[\"borrow_count\"] = grouped.apply(lambda x: (x[\"action\"] == \"borrow\").sum())\n",
      "C:\\Users\\91886\\AppData\\Local\\Temp\\ipykernel_14664\\3744804572.py:17: DeprecationWarning: DataFrameGroupBy.apply operated on the grouping columns. This behavior is deprecated, and in a future version of pandas the grouping columns will be excluded from the operation. Either pass `include_groups=False` to exclude the groupings or explicitly select the grouping columns after groupby to silence this warning.\n",
      "  features[\"repay_count\"] = grouped.apply(lambda x: (x[\"action\"] == \"repay\").sum())\n",
      "C:\\Users\\91886\\AppData\\Local\\Temp\\ipykernel_14664\\3744804572.py:18: DeprecationWarning: DataFrameGroupBy.apply operated on the grouping columns. This behavior is deprecated, and in a future version of pandas the grouping columns will be excluded from the operation. Either pass `include_groups=False` to exclude the groupings or explicitly select the grouping columns after groupby to silence this warning.\n",
      "  features[\"redeem_count\"] = grouped.apply(lambda x: (x[\"action\"] == \"redeemunderlying\").sum())\n",
      "C:\\Users\\91886\\AppData\\Local\\Temp\\ipykernel_14664\\3744804572.py:19: DeprecationWarning: DataFrameGroupBy.apply operated on the grouping columns. This behavior is deprecated, and in a future version of pandas the grouping columns will be excluded from the operation. Either pass `include_groups=False` to exclude the groupings or explicitly select the grouping columns after groupby to silence this warning.\n",
      "  features[\"liquidation_count\"] = grouped.apply(lambda x: (x[\"action\"] == \"liquidationcall\").sum())\n",
      "C:\\Users\\91886\\AppData\\Local\\Temp\\ipykernel_14664\\3744804572.py:20: DeprecationWarning: DataFrameGroupBy.apply operated on the grouping columns. This behavior is deprecated, and in a future version of pandas the grouping columns will be excluded from the operation. Either pass `include_groups=False` to exclude the groupings or explicitly select the grouping columns after groupby to silence this warning.\n",
      "  features[\"total_deposit_amount\"] = grouped.apply(lambda x: x.loc[x[\"action\"] == \"deposit\", \"amount\"].sum())\n",
      "C:\\Users\\91886\\AppData\\Local\\Temp\\ipykernel_14664\\3744804572.py:21: DeprecationWarning: DataFrameGroupBy.apply operated on the grouping columns. This behavior is deprecated, and in a future version of pandas the grouping columns will be excluded from the operation. Either pass `include_groups=False` to exclude the groupings or explicitly select the grouping columns after groupby to silence this warning.\n",
      "  features[\"total_borrow_amount\"] = grouped.apply(lambda x: x.loc[x[\"action\"] == \"borrow\", \"amount\"].sum())\n",
      "C:\\Users\\91886\\AppData\\Local\\Temp\\ipykernel_14664\\3744804572.py:22: DeprecationWarning: DataFrameGroupBy.apply operated on the grouping columns. This behavior is deprecated, and in a future version of pandas the grouping columns will be excluded from the operation. Either pass `include_groups=False` to exclude the groupings or explicitly select the grouping columns after groupby to silence this warning.\n",
      "  features[\"total_repay_amount\"] = grouped.apply(lambda x: x.loc[x[\"action\"] == \"repay\", \"amount\"].sum())\n"
     ]
    }
   ],
   "source": [
    "# Preprocessing as model requirement\n",
    "def extract_amount(row):\n",
    "    try:\n",
    "        return float(row['actionData'].get('amount', 0)) / 1e18\n",
    "    except:\n",
    "        return 0\n",
    "\n",
    "df[\"amount\"] = df.apply(extract_amount, axis=1)\n",
    "df[\"datetime\"] = pd.to_datetime(df[\"timestamp\"], unit=\"s\")\n",
    "\n",
    "def generate_wallet_features(df):\n",
    "    grouped = df.groupby(\"userWallet\")\n",
    "    features = pd.DataFrame()\n",
    "    features[\"total_transactions\"] = grouped.size()\n",
    "    features[\"deposit_count\"] = grouped.apply(lambda x: (x[\"action\"] == \"deposit\").sum())\n",
    "    features[\"borrow_count\"] = grouped.apply(lambda x: (x[\"action\"] == \"borrow\").sum())\n",
    "    features[\"repay_count\"] = grouped.apply(lambda x: (x[\"action\"] == \"repay\").sum())\n",
    "    features[\"redeem_count\"] = grouped.apply(lambda x: (x[\"action\"] == \"redeemunderlying\").sum())\n",
    "    features[\"liquidation_count\"] = grouped.apply(lambda x: (x[\"action\"] == \"liquidationcall\").sum())\n",
    "    features[\"total_deposit_amount\"] = grouped.apply(lambda x: x.loc[x[\"action\"] == \"deposit\", \"amount\"].sum())\n",
    "    features[\"total_borrow_amount\"] = grouped.apply(lambda x: x.loc[x[\"action\"] == \"borrow\", \"amount\"].sum())\n",
    "    features[\"total_repay_amount\"] = grouped.apply(lambda x: x.loc[x[\"action\"] == \"repay\", \"amount\"].sum())\n",
    "    features[\"active_days\"] = grouped[\"datetime\"].apply(lambda x: x.dt.date.nunique())\n",
    "    features[\"last_active_days_ago\"] = grouped[\"datetime\"].apply(lambda x: (pd.Timestamp.now() - x.max()).days)\n",
    "    return features.reset_index()\n",
    "\n",
    "features_df = generate_wallet_features(df)\n",
    "features_df[\"repay_to_borrow_ratio\"] = features_df[\"total_repay_amount\"] / (features_df[\"total_borrow_amount\"] + 1e-6)\n",
    "features_df.fillna(0, inplace=True)"
   ]
  },
  {
   "cell_type": "code",
   "execution_count": 27,
   "id": "c9b551b9",
   "metadata": {},
   "outputs": [],
   "source": [
    "# Selecting features used in training\n",
    "X_new = features_df.drop(columns=[\"userWallet\"])"
   ]
  },
  {
   "cell_type": "code",
   "execution_count": 28,
   "id": "da8d4365",
   "metadata": {},
   "outputs": [],
   "source": [
    "# Predict credit scores \n",
    "predicted_scores = model.predict(X_new)"
   ]
  },
  {
   "cell_type": "code",
   "execution_count": 29,
   "id": "577e44f4",
   "metadata": {},
   "outputs": [],
   "source": [
    "# Add to DataFrame\n",
    "features_df[\"predicted_score\"] = predicted_scores"
   ]
  },
  {
   "cell_type": "code",
   "execution_count": 30,
   "id": "851f6b53",
   "metadata": {
    "scrolled": true
   },
   "outputs": [
    {
     "name": "stdout",
     "output_type": "stream",
     "text": [
      "                                   userWallet  predicted_score\n",
      "0  0x0039f22efb07a647557c7c5d17854cfd6d489ef3       626.238098\n",
      "1  0x06b51c6882b27cb05e712185531c1f74996dd988         7.564269\n",
      "2  0x0795732aacc448030ef374374eaae57d2965c16c         7.564269\n",
      "3  0x0aaa79f1a86bc8136cd0d1ca0d51964f4e3766f9         7.564269\n",
      "4  0x0fe383e5abc200055a7f391f94a5f5d1f844b9ae         7.564269\n"
     ]
    }
   ],
   "source": [
    "# === Final wallet score output ===\n",
    "print(features_df[[\"userWallet\", \"predicted_score\"]].head())"
   ]
  },
  {
   "cell_type": "code",
   "execution_count": 31,
   "id": "20071c49",
   "metadata": {},
   "outputs": [
    {
     "name": "stdout",
     "output_type": "stream",
     "text": [
      "                                    userWallet  total_transactions  \\\n",
      "0   0x0039f22efb07a647557c7c5d17854cfd6d489ef3                  33   \n",
      "25  0x427f2ac5fdf4245e027d767e7c3ac272a1f40a65                  41   \n",
      "46  0x70d8e4ab175dfe0eab4e9a7f33e0a2d19f44001e                  36   \n",
      "26  0x4814be124d7fe3b240eb46061f7ddfab468fe122                  46   \n",
      "90  0xf340b9f2098f80b86fbc5ede586c319473aa11f3                  14   \n",
      "\n",
      "    deposit_count  borrow_count  repay_count  redeem_count  liquidation_count  \\\n",
      "0              15             1            1            16                  0   \n",
      "25             20             7            5             9                  0   \n",
      "46             12             4            2            18                  0   \n",
      "26             21             6            5            14                  0   \n",
      "90              3             6            3             2                  0   \n",
      "\n",
      "    total_deposit_amount  total_borrow_amount  total_repay_amount  \\\n",
      "0             200.006384                  0.0                 0.0   \n",
      "25             14.569720                  0.0                 0.0   \n",
      "46              0.992900                  0.0                 0.0   \n",
      "26              0.246633                  0.0                 0.0   \n",
      "90            150.000000                  0.0                 0.0   \n",
      "\n",
      "    active_days  last_active_days_ago  repay_to_borrow_ratio  predicted_score  \n",
      "0            27                  1327                    0.0       626.238098  \n",
      "25           31                   232                    0.0       519.987844  \n",
      "46           23                  1884                    0.0       387.890018  \n",
      "26           18                  1581                    0.0       324.316623  \n",
      "90           10                  1506                    0.0       306.917896  \n"
     ]
    }
   ],
   "source": [
    " # top wallets by predicted score\n",
    "sorted_scores = features_df.sort_values(by=\"predicted_score\", ascending=False)\n",
    "print(sorted_scores.head()) "
   ]
  },
  {
   "cell_type": "code",
   "execution_count": 32,
   "id": "4a3c8f8c",
   "metadata": {},
   "outputs": [
    {
     "name": "stdout",
     "output_type": "stream",
     "text": [
      "Saved 'wallet_scores.csv' with userWallet and predicted_score.\n"
     ]
    }
   ],
   "source": [
    "features_df[[\"userWallet\", \"predicted_score\"]].to_csv(\"wallet_scores.csv\", index=False)\n",
    "print(\"Saved 'wallet_scores.csv' with userWallet and predicted_score.\")"
   ]
  },
  {
   "cell_type": "code",
   "execution_count": null,
   "id": "7fd89d68",
   "metadata": {},
   "outputs": [],
   "source": []
  }
 ],
 "metadata": {
  "kernelspec": {
   "display_name": "Python 3 (ipykernel)",
   "language": "python",
   "name": "python3"
  },
  "language_info": {
   "codemirror_mode": {
    "name": "ipython",
    "version": 3
   },
   "file_extension": ".py",
   "mimetype": "text/x-python",
   "name": "python",
   "nbconvert_exporter": "python",
   "pygments_lexer": "ipython3",
   "version": "3.10.9"
  }
 },
 "nbformat": 4,
 "nbformat_minor": 5
}
